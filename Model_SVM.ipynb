{
 "cells": [
  {
   "cell_type": "code",
   "execution_count": 1,
   "metadata": {
    "colab": {
     "base_uri": "https://localhost:8080/"
    },
    "id": "yCz0LB3-O7pf",
    "outputId": "8d0e0c38-095d-4e12-ca06-c18f9fff8a5c"
   },
   "outputs": [
    {
     "name": "stdout",
     "output_type": "stream",
     "text": [
      "Drive already mounted at /content/drive; to attempt to forcibly remount, call drive.mount(\"/content/drive\", force_remount=True).\n"
     ]
    }
   ],
   "source": [
    "from google.colab import drive\n",
    "drive.mount('/content/drive')"
   ]
  },
  {
   "cell_type": "code",
   "execution_count": 2,
   "metadata": {
    "colab": {
     "base_uri": "https://localhost:8080/"
    },
    "id": "iPLmWEkOPMkf",
    "outputId": "d000e541-8fda-47c5-904a-c2a2eaf0028f"
   },
   "outputs": [
    {
     "name": "stdout",
     "output_type": "stream",
     "text": [
      "Requirement already satisfied: scikit-learn in /usr/local/lib/python3.10/dist-packages (1.5.2)\n",
      "Requirement already satisfied: numpy>=1.19.5 in /usr/local/lib/python3.10/dist-packages (from scikit-learn) (1.26.4)\n",
      "Requirement already satisfied: scipy>=1.6.0 in /usr/local/lib/python3.10/dist-packages (from scikit-learn) (1.13.1)\n",
      "Requirement already satisfied: joblib>=1.2.0 in /usr/local/lib/python3.10/dist-packages (from scikit-learn) (1.4.2)\n",
      "Requirement already satisfied: threadpoolctl>=3.1.0 in /usr/local/lib/python3.10/dist-packages (from scikit-learn) (3.5.0)\n"
     ]
    }
   ],
   "source": [
    "pip install scikit-learn"
   ]
  },
  {
   "cell_type": "code",
   "execution_count": 3,
   "metadata": {
    "colab": {
     "base_uri": "https://localhost:8080/"
    },
    "id": "Lp5dd6RuPReX",
    "outputId": "b25fda08-c81e-4d6a-c9c1-9e0dc87cdd39"
   },
   "outputs": [
    {
     "name": "stdout",
     "output_type": "stream",
     "text": [
      "Mean Absolute Error (MAE): 0.45992649313475187\n",
      "Mean Squared Error (MSE): 4.148782825796031\n",
      "Mean R² Score: 0.30541182040747306\n"
     ]
    }
   ],
   "source": [
    "import os\n",
    "import pandas as pd\n",
    "import numpy as np\n",
    "import warnings\n",
    "from sklearn.model_selection import train_test_split\n",
    "from sklearn.metrics import mean_absolute_error, mean_squared_error, r2_score\n",
    "from sklearn.preprocessing import StandardScaler\n",
    "from sklearn.svm import SVR\n",
    "\n",
    "warnings.filterwarnings('ignore')\n",
    "\n",
    "# Load dataset\n",
    "data_test = pd.read_csv('/content/drive/MyDrive/TrainAI/test_data.csv')\n",
    "data_train = pd.read_csv('/content/drive/MyDrive/TrainAI/train_data.csv')\n",
    "\n",
    "data_test1 = data_test.dropna()\n",
    "data_train1 = data_train.dropna()\n",
    "\n",
    "features = ['cape', 'cin', 'ewss', 'ie', 'isor', 'kx', 'pev', 'slhf', 'slor', 'sshf', 'tclw', 'tcw', 'tcwv', 'aws-5', 'aws-4', 'aws-3', 'aws-2', 'aws-1']\n",
    "target = 'aws'\n",
    "\n",
    "# Xử lý dữ liệu\n",
    "X_te = data_test1[features]\n",
    "y_te = data_test1[target]\n",
    "X_tr = data_train1[features]\n",
    "y_tr = data_train1[target]\n",
    "\n",
    "# Apply scaling\n",
    "scaler_X = StandardScaler()\n",
    "scaler_y = StandardScaler()\n",
    "\n",
    "# Scale features\n",
    "X_train_scaled = scaler_X.fit_transform(X_tr)\n",
    "X_test_scaled = scaler_X.transform(X_te)\n",
    "\n",
    "# Scale target\n",
    "y_train_scaled = scaler_y.fit_transform(y_tr.values.reshape(-1, 1)).ravel()\n",
    "\n",
    "# Khởi tạo mô hình SVM\n",
    "svm_model = SVR(kernel='rbf', C=1.0, epsilon=0.1)\n",
    "\n",
    "# Huấn luyện mô hình\n",
    "svm_model.fit(X_train_scaled, y_train_scaled)\n",
    "\n",
    "# Dự đoán\n",
    "y_pred_scaled = svm_model.predict(X_test_scaled)\n",
    "\n",
    "# Reverse scaling for y_pred\n",
    "y_pred = scaler_y.inverse_transform(y_pred_scaled.reshape(-1, 1)).ravel()\n",
    "\n",
    "# Tính MAE, MSE và R²\n",
    "mae = mean_absolute_error(y_te, y_pred)\n",
    "mse = mean_squared_error(y_te, y_pred)\n",
    "r2 = r2_score(y_te, y_pred)\n",
    "\n",
    "# In kết quả\n",
    "print('Mean Absolute Error (MAE):', mae)\n",
    "print('Mean Squared Error (MSE):', mse)\n",
    "print('Mean R² Score:', r2)\n"
   ]
  }
 ],
 "metadata": {
  "accelerator": "GPU",
  "colab": {
   "gpuType": "T4",
   "name": "Colaboratory chào mừng bạn!",
   "provenance": []
  },
  "kernelspec": {
   "display_name": "Python 3",
   "name": "python3"
  }
 },
 "nbformat": 4,
 "nbformat_minor": 0
}
